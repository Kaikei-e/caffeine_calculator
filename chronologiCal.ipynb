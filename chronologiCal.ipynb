{
 "metadata": {
  "language_info": {
   "codemirror_mode": {
    "name": "ipython",
    "version": 3
   },
   "file_extension": ".py",
   "mimetype": "text/x-python",
   "name": "python",
   "nbconvert_exporter": "python",
   "pygments_lexer": "ipython3",
   "version": "3.8.2-final"
  },
  "orig_nbformat": 2,
  "kernelspec": {
   "name": "python38232bit68a8fdd0a08d461daeb0c2bc70a864a5",
   "display_name": "Python 3.8.2 32-bit",
   "language": "python"
  }
 },
 "nbformat": 4,
 "nbformat_minor": 2,
 "cells": [
  {
   "cell_type": "code",
   "execution_count": 2,
   "metadata": {},
   "outputs": [
    {
     "output_type": "stream",
     "name": "stdout",
     "text": [
      "How many drinks do you want to calculate?\n",
      "An exception occurred.\n",
      "Please enter integer.\n"
     ]
    },
    {
     "output_type": "execute_result",
     "data": {
      "text/plain": [
       "'\\n\\n'"
      ]
     },
     "metadata": {},
     "execution_count": 2
    }
   ],
   "source": [
    "import matplotlib.pyplot as ppt\n",
    "\n",
    "chronological_stmt = \"Please enter multiple drinks in chronological order. The order can be in any order. The format should be 'YYYY/MM/DD H:M', such as '2020/12/01 21:34'.\"\n",
    "check_drinks_stmt = \"How many drinks do you want to calculate?\"\n",
    "mode_statement = \"Please select a calculation method. Mode 1 is calculated by the amount of caffeine per 100ml, Mode 2 is calculated by the total amount of the caffeine.\\n Choose 1 or 2.\"\n",
    "mode1_statement = \"Enter first the amount of the drink and then the amount of caffeine per 100 ml, separated by a space\"\n",
    "mode2_statement = \"Enter the total amount of caffeine in mg.\"\n",
    "\n",
    "drinks_list = []\n",
    "selected_mode = None\n",
    "\n",
    "def number_excp_handler():\n",
    "    flag_number = True\n",
    "    print(check_drinks_stmt)\n",
    "    while flag_number == True:\n",
    "        try:\n",
    "            number_of_drinks = int(input())\n",
    "            if number_of_drinks < 1:\n",
    "                print(\"Enter an integer greater than or equal to 1.\")\n",
    "            elif number_of_drinks > 0:\n",
    "                flag_number = False\n",
    "        except:\n",
    "            print(\"An exception occurred.\\nPlease enter integer.\")\n",
    "\n",
    "def mode_excp_handler():\n",
    "    flag_mode = True\n",
    "    global selected_mode\n",
    "\n",
    "    print(mode_statement)\n",
    "    while flag_mode == True:\n",
    "        try:\n",
    "            selected_mode = int(input())\n",
    "            if selected_mode < 1 or selected_mode > 2:\n",
    "                print(\"Please enter 1 or 2\")\n",
    "            elif selected_mode == 1 or selected_mode == 2:\n",
    "                flag_mode = False\n",
    "        except:\n",
    "            print(\"An exception occurred.\\nPlease enter 1 or 2.\")\n",
    "\n",
    "\n",
    "number_excp_handler()\n",
    "\n",
    "\"\"\"\n",
    "\n",
    "\"\"\""
   ]
  }
 ]
}