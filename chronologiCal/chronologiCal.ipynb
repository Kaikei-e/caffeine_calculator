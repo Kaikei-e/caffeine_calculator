{
 "metadata": {
  "language_info": {
   "codemirror_mode": {
    "name": "ipython",
    "version": 3
   },
   "file_extension": ".py",
   "mimetype": "text/x-python",
   "name": "python",
   "nbconvert_exporter": "python",
   "pygments_lexer": "ipython3",
   "version": "3.8.2-final"
  },
  "orig_nbformat": 2,
  "kernelspec": {
   "name": "python3",
   "display_name": "Python 3.8.2 32-bit",
   "metadata": {
    "interpreter": {
     "hash": "44cbc8a5cb2de9aaf7b772d53d9f7243da812e779128381065367f5f8c241dcb"
    }
   }
  }
 },
 "nbformat": 4,
 "nbformat_minor": 2,
 "cells": [
  {
   "cell_type": "code",
   "execution_count": 1,
   "metadata": {
    "tags": []
   },
   "outputs": [
    {
     "output_type": "stream",
     "name": "stdout",
     "text": [
      "How many drinks do you want to calculate?\n",
      "Please enter multiple drinks in chronological order. The order can be in any order. The format should be 'YYYY/MM/DD H:M', such as '2020/12/01 21:34'.\n",
      "Formatted.\n",
      "You entered these.\n",
      "Is this OK?\n",
      "Enter 'y' or 'n'.\n",
      "2020/12/01 21:34\n",
      "2020/12/01 21:54\n",
      "Please enter Y/n.\n",
      "Ready to go!\n",
      "Please select a calculation mode for this date and time.\n",
      " : 2020/12/01 21:34\n",
      "Mode 1 is calculated by the amount of caffeine per 100ml, Mode 2 is calculated by the total amount of the caffeine.\n",
      " Choose 1 or 2.\n",
      "Enter the total amount of caffeine in mg.\n"
     ]
    },
    {
     "output_type": "error",
     "ename": "IndexError",
     "evalue": "list index out of range",
     "traceback": [
      "\u001b[1;31m---------------------------------------------------------------------------\u001b[0m",
      "\u001b[1;31mIndexError\u001b[0m                                Traceback (most recent call last)",
      "\u001b[1;32m<ipython-input-1-0940e3ab0bfa>\u001b[0m in \u001b[0;36m<module>\u001b[1;34m\u001b[0m\n\u001b[0;32m     72\u001b[0m \u001b[0mdatetime_list\u001b[0m \u001b[1;33m=\u001b[0m \u001b[0msorted\u001b[0m\u001b[1;33m(\u001b[0m\u001b[0mdatetime_list\u001b[0m\u001b[1;33m)\u001b[0m\u001b[1;33m\u001b[0m\u001b[1;33m\u001b[0m\u001b[0m\n\u001b[0;32m     73\u001b[0m \u001b[1;33m\u001b[0m\u001b[0m\n\u001b[1;32m---> 74\u001b[1;33m \u001b[0mchronological_cal\u001b[0m\u001b[1;33m(\u001b[0m\u001b[0mdatetime_list\u001b[0m\u001b[1;33m)\u001b[0m\u001b[1;33m\u001b[0m\u001b[1;33m\u001b[0m\u001b[0m\n\u001b[0m\u001b[0;32m     75\u001b[0m \u001b[1;33m\u001b[0m\u001b[0m\n\u001b[0;32m     76\u001b[0m \u001b[1;33m\u001b[0m\u001b[0m\n",
      "\u001b[1;32m<ipython-input-1-0940e3ab0bfa>\u001b[0m in \u001b[0;36mchronological_cal\u001b[1;34m(datetime_list)\u001b[0m\n\u001b[0;32m     57\u001b[0m             \u001b[0mreturned_list\u001b[0m\u001b[1;33m.\u001b[0m\u001b[0minsert\u001b[0m\u001b[1;33m(\u001b[0m\u001b[1;36m0\u001b[0m\u001b[1;33m,\u001b[0m \u001b[0mre_list\u001b[0m\u001b[1;33m[\u001b[0m\u001b[1;36m0\u001b[0m\u001b[1;33m]\u001b[0m\u001b[1;33m)\u001b[0m\u001b[1;33m\u001b[0m\u001b[1;33m\u001b[0m\u001b[0m\n\u001b[0;32m     58\u001b[0m             \u001b[0mreturned_list\u001b[0m\u001b[1;33m.\u001b[0m\u001b[0minsert\u001b[0m\u001b[1;33m(\u001b[0m\u001b[1;36m1\u001b[0m\u001b[1;33m,\u001b[0m \u001b[0mre_list\u001b[0m\u001b[1;33m[\u001b[0m\u001b[1;36m1\u001b[0m\u001b[1;33m]\u001b[0m\u001b[1;33m)\u001b[0m\u001b[1;33m\u001b[0m\u001b[1;33m\u001b[0m\u001b[0m\n\u001b[1;32m---> 59\u001b[1;33m             \u001b[0mcaffe_caled\u001b[0m \u001b[1;33m+=\u001b[0m \u001b[0mreturned_list\u001b[0m\u001b[1;33m[\u001b[0m\u001b[1;36m2\u001b[0m\u001b[1;33m]\u001b[0m\u001b[1;33m\u001b[0m\u001b[1;33m\u001b[0m\u001b[0m\n\u001b[0m\u001b[0;32m     60\u001b[0m             \u001b[1;32mcontinue\u001b[0m\u001b[1;33m\u001b[0m\u001b[1;33m\u001b[0m\u001b[0m\n\u001b[0;32m     61\u001b[0m \u001b[1;33m\u001b[0m\u001b[0m\n",
      "\u001b[1;31mIndexError\u001b[0m: list index out of range"
     ]
    }
   ],
   "source": [
    "import sys\n",
    "import matplotlib.pyplot as ppt\n",
    "import datetime\n",
    "from funcs import excp_handler\n",
    "from funcs import caffe_cals\n",
    "from funcs import mode_selecter\n",
    "#sys.path.append('chronologiCal/funcs')\n",
    "\n",
    "selected_mode = None\n",
    "\n",
    "chronological_stmt = \"Please enter multiple drinks in chronological order. The order can be in any order. The format should be 'YYYY/MM/DD H:M', such as '2020/12/01 21:34'.\"\n",
    "check_drinks_stmt = \"How many drinks do you want to calculate?\"\n",
    "mode_statement = \"Mode 1 is calculated by the amount of caffeine per 100ml, Mode 2 is calculated by the total amount of the caffeine.\\n Choose 1 or 2.\"\n",
    "mode1_statement = \"Enter first the amount of the drink and then the amount of caffeine per 100 ml, separated by a space\"\n",
    "mode2_statement = \"Enter the total amount of caffeine in mg.\"\n",
    "\n",
    "\n",
    "def datetimes_loop(N_o_D):\n",
    "    global chronological_stmt\n",
    "    dt_list = []\n",
    "    dt_l = None\n",
    "    def datetime_to_str(datetimes):\n",
    "        str_datetime = datetime.datetime.strftime(datetimes, '%Y/%m/%d %H:%M')\n",
    "        return str_datetime\n",
    "    flag_datetimes = True\n",
    "    print(chronological_stmt)\n",
    "\n",
    "    while flag_datetimes == True:\n",
    "        for i in range(N_o_D):\n",
    "            dt_list.append(excp_handler.chrono_excp_handler())\n",
    "        print(\"Formatted.\")\n",
    "        print(\"You entered these.\\nIs this OK?\\nEnter 'y' or 'n'.\")\n",
    "        for dt_l in dt_list:\n",
    "            print(datetime_to_str(dt_l))\n",
    "        flag_datetimes = excp_handler.yon_excp_handler(input())\n",
    "\n",
    "    return dt_list\n",
    "\n",
    "\n",
    "def chronological_cal(datetime_list):\n",
    "    index = 0\n",
    "    returned_time_list = []\n",
    "    returned_recaffe_list = []\n",
    "    rest_of_caffe = 0\n",
    "    returned_list = []\n",
    "    caffe_amount = 0\n",
    "    caffe_caled = 0\n",
    "    for dt_l in datetime_list:\n",
    "\n",
    "        index += 1\n",
    "        str_datetime = datetime.datetime.strftime(dt_l, '%Y/%m/%d %H:%M')\n",
    "        print(\"Please select a calculation mode for this date and time.\\n : {0}\".format(str_datetime))\n",
    "        selected_mode = excp_handler.mode_excp_handler()\n",
    "        caffe_amount = mode_selecter.mode_selecter(selected_mode)\n",
    "        if index < len(datetime_list):\n",
    "            re_list = caffe_cals.compare_calculator(caffe_amount, dt_l, datetime_list[index])\n",
    "            returned_list.insert(0, re_list[0])\n",
    "            returned_list.insert(1, re_list[1])\n",
    "            caffe_caled += re_list[2]\n",
    "            continue\n",
    "\n",
    "        if index >= len(datetime_list) - 1:\n",
    "            caffe_caled += caffe_amount\n",
    "            re_list = caffe_cals.simple_calculator(caffe_caled, dt_l)\n",
    "            returned_list.insert(0, re_list[0])\n",
    "            returned_list.insert(1, re_list[1])\n",
    "\n",
    "            continue\n",
    "\n",
    "\n",
    "datetime_list = datetimes_loop(excp_handler.number_excp_handler())\n",
    "datetime_list = sorted(datetime_list)\n",
    "\n",
    "chronological_cal(datetime_list)\n",
    "\n",
    "\n",
    "    \n",
    "print(returned_list[0])\n",
    "print(returned_list[1])\n",
    "\n",
    "ppt.xlabel(\"Time(h)\")\n",
    "ppt.ylabel(\"Caffeine(mg)\")\n",
    "ppt.grid()\n",
    "ppt.plot(returned_list[0], returned_list[1])\n",
    "\n"
   ]
  }
 ]
}