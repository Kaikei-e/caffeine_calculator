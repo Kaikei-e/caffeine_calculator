{
 "metadata": {
  "language_info": {
   "codemirror_mode": {
    "name": "ipython",
    "version": 3
   },
   "file_extension": ".py",
   "mimetype": "text/x-python",
   "name": "python",
   "nbconvert_exporter": "python",
   "pygments_lexer": "ipython3",
   "version": "3.8.2-final"
  },
  "orig_nbformat": 2,
  "kernelspec": {
   "name": "python3",
   "display_name": "Python 3.8.2 32-bit",
   "metadata": {
    "interpreter": {
     "hash": "44cbc8a5cb2de9aaf7b772d53d9f7243da812e779128381065367f5f8c241dcb"
    }
   }
  }
 },
 "nbformat": 4,
 "nbformat_minor": 2,
 "cells": [
  {
   "cell_type": "code",
   "execution_count": 6,
   "metadata": {},
   "outputs": [
    {
     "output_type": "stream",
     "name": "stdout",
     "text": [
      "How many drinks do you want to calculate?\n",
      "Please enter multiple drinks in chronological order. The order can be in any order. The format should be 'YYYY/MM/DD H:M', such as '2020/12/01 21:34'.\n",
      "Formatted.\n",
      "You entered these.\n",
      "Is this OK?\n",
      "Enter 'y' or 'n'.\n",
      "2020/12/01 21:34\n",
      "2020/12/01 22:34\n",
      "Ready to go!\n",
      "Please select a calculation mode for this date and time.\n",
      " : 2020/12/01 21:34\n",
      "Please select a calculation method. Mode 1 is calculated by the amount of caffeine per 100ml, Mode 2 is calculated by the total amount of the caffeine.\n",
      " Choose 1 or 2.\n"
     ]
    },
    {
     "output_type": "error",
     "ename": "AttributeError",
     "evalue": "module 'funcs.caffe_cals' has no attribute 'calculator'",
     "traceback": [
      "\u001b[1;31m---------------------------------------------------------------------------\u001b[0m",
      "\u001b[1;31mAttributeError\u001b[0m                            Traceback (most recent call last)",
      "\u001b[1;32m<ipython-input-6-6eee0f3c917f>\u001b[0m in \u001b[0;36m<module>\u001b[1;34m\u001b[0m\n\u001b[0;32m     50\u001b[0m \u001b[0mdatetime_list\u001b[0m \u001b[1;33m=\u001b[0m \u001b[0msorted\u001b[0m\u001b[1;33m(\u001b[0m\u001b[0mdatetime_list\u001b[0m\u001b[1;33m)\u001b[0m\u001b[1;33m\u001b[0m\u001b[1;33m\u001b[0m\u001b[0m\n\u001b[0;32m     51\u001b[0m \u001b[1;33m\u001b[0m\u001b[0m\n\u001b[1;32m---> 52\u001b[1;33m \u001b[0mchronological_cal\u001b[0m\u001b[1;33m(\u001b[0m\u001b[0mdatetime_list\u001b[0m\u001b[1;33m)\u001b[0m\u001b[1;33m\u001b[0m\u001b[1;33m\u001b[0m\u001b[0m\n\u001b[0m\u001b[0;32m     53\u001b[0m \u001b[1;33m\u001b[0m\u001b[0m\n\u001b[0;32m     54\u001b[0m \u001b[1;33m\u001b[0m\u001b[0m\n",
      "\u001b[1;32m<ipython-input-6-6eee0f3c917f>\u001b[0m in \u001b[0;36mchronological_cal\u001b[1;34m(datetimes)\u001b[0m\n\u001b[0;32m     44\u001b[0m         \u001b[0mselected_mode\u001b[0m \u001b[1;33m=\u001b[0m \u001b[0mexcp_handler\u001b[0m\u001b[1;33m.\u001b[0m\u001b[0mmode_excp_handler\u001b[0m\u001b[1;33m(\u001b[0m\u001b[1;33m)\u001b[0m\u001b[1;33m\u001b[0m\u001b[1;33m\u001b[0m\u001b[0m\n\u001b[0;32m     45\u001b[0m         \u001b[0mcaffe_amount\u001b[0m \u001b[1;33m=\u001b[0m \u001b[0mmode_selecter\u001b[0m\u001b[1;33m.\u001b[0m\u001b[0mmode_selecter\u001b[0m\u001b[1;33m(\u001b[0m\u001b[0mselected_mode\u001b[0m\u001b[1;33m)\u001b[0m\u001b[1;33m\u001b[0m\u001b[1;33m\u001b[0m\u001b[0m\n\u001b[1;32m---> 46\u001b[1;33m         \u001b[0mcaffe_cals\u001b[0m\u001b[1;33m.\u001b[0m\u001b[0mcalculator\u001b[0m\u001b[1;33m(\u001b[0m\u001b[1;33m)\u001b[0m\u001b[1;33m\u001b[0m\u001b[1;33m\u001b[0m\u001b[0m\n\u001b[0m\u001b[0;32m     47\u001b[0m \u001b[1;33m\u001b[0m\u001b[0m\n\u001b[0;32m     48\u001b[0m \u001b[1;33m\u001b[0m\u001b[0m\n",
      "\u001b[1;31mAttributeError\u001b[0m: module 'funcs.caffe_cals' has no attribute 'calculator'"
     ]
    }
   ],
   "source": [
    "import sys\n",
    "import matplotlib.pyplot as ppt\n",
    "import datetime\n",
    "from funcs import excp_handler\n",
    "from funcs import caffe_cals\n",
    "from funcs import mode_selecter\n",
    "#sys.path.append('chronologiCal/funcs')\n",
    "\n",
    "selected_mode = None\n",
    "\n",
    "chronological_stmt = \"Please enter multiple drinks in chronological order. The order can be in any order. The format should be 'YYYY/MM/DD H:M', such as '2020/12/01 21:34'.\"\n",
    "check_drinks_stmt = \"How many drinks do you want to calculate?\"\n",
    "mode_statement = \"Mode 1 is calculated by the amount of caffeine per 100ml, Mode 2 is calculated by the total amount of the caffeine.\\n Choose 1 or 2.\"\n",
    "mode1_statement = \"Enter first the amount of the drink and then the amount of caffeine per 100 ml, separated by a space\"\n",
    "mode2_statement = \"Enter the total amount of caffeine in mg.\"\n",
    "\n",
    "\n",
    "def datetimes_loop(N_o_D):\n",
    "    global chronological_stmt\n",
    "    dt_list = []\n",
    "    dt_l = None\n",
    "    def datetime_to_str(datetimes):\n",
    "        str_datetime = datetime.datetime.strftime(datetimes, '%Y/%m/%d %H:%M')\n",
    "        return str_datetime\n",
    "    flag_datetimes = True\n",
    "    print(chronological_stmt)\n",
    "\n",
    "    while flag_datetimes == True:\n",
    "        for i in range(N_o_D):\n",
    "            dt_list.append(excp_handler.chrono_excp_handler())\n",
    "        print(\"Formatted.\")\n",
    "        print(\"You entered these.\\nIs this OK?\\nEnter 'y' or 'n'.\")\n",
    "        for dt_l in dt_list:\n",
    "            print(datetime_to_str(dt_l))\n",
    "        flag_datetimes = excp_handler.yon_excp_handler(input())\n",
    "\n",
    "    return dt_list\n",
    "\n",
    "\n",
    "def chronological_cal(datetimes):\n",
    "    for dt_l in datetimes:\n",
    "        str_datetime = datetime.datetime.strftime(dt_l, '%Y/%m/%d %H:%M')\n",
    "        print(\"Please select a calculation mode for this date and time.\\n : {0}\".format(str_datetime))\n",
    "        selected_mode = excp_handler.mode_excp_handler()\n",
    "        caffe_amount = mode_selecter.mode_selecter(selected_mode)\n",
    "        caffe_cals.calculator(caffe_amount, dt_l)\n",
    "\n",
    "\n",
    "datetime_list = datetimes_loop(excp_handler.number_excp_handler())\n",
    "datetime_list = sorted(datetime_list)\n",
    "\n",
    "chronological_cal(datetime_list)\n",
    "\n",
    "\n",
    "    \n",
    "print(returned_list[0])\n",
    "print(returned_list[1])\n",
    "\n",
    "ppt.xlabel(\"Time(h)\")\n",
    "ppt.ylabel(\"Caffeine(mg)\")\n",
    "ppt.grid()\n",
    "ppt.plot(returned_list[0], returned_list[1])\n",
    "\n"
   ]
  }
 ]
}